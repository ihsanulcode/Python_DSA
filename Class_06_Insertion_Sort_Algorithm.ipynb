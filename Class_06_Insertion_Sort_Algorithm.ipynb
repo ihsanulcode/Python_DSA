{
  "nbformat": 4,
  "nbformat_minor": 0,
  "metadata": {
    "colab": {
      "provenance": []
    },
    "kernelspec": {
      "name": "python3",
      "display_name": "Python 3"
    },
    "language_info": {
      "name": "python"
    }
  },
  "cells": [
    {
      "cell_type": "code",
      "execution_count": 4,
      "metadata": {
        "colab": {
          "base_uri": "https://localhost:8080/"
        },
        "id": "xLVDKcAVpVyn",
        "outputId": "185ce404-b3d3-4c74-d176-03fd2c0fb6e0"
      },
      "outputs": [
        {
          "output_type": "stream",
          "name": "stdout",
          "text": [
            "[5, 4, 10, 1]\n",
            "[1, 4, 5, 10]\n",
            "[1, 50, 2, 5, 8, 4, 3, 6, 6, 7, 8, 9]\n",
            "[1, 2, 3, 4, 5, 6, 6, 7, 8, 8, 9, 50]\n"
          ]
        }
      ],
      "source": [
        "def insertion_sort(list):\n",
        "  n = len(list)\n",
        "  for i in range(1,n):\n",
        "    temp = list[i]\n",
        "    j = i-1\n",
        "    while j>=0 and list[j]>temp:\n",
        "      list[j+1] = list[j]\n",
        "      j -= 1\n",
        "    list[j+1] = temp\n",
        "\n",
        "list = [5,4,10,1]\n",
        "print(list)\n",
        "insertion_sort(list)\n",
        "print(list)\n",
        "list = [1,50,2,5,8,4,3,6,6,7,8,9]\n",
        "print(list)\n",
        "insertion_sort(list)\n",
        "print(list)"
      ]
    }
  ]
}