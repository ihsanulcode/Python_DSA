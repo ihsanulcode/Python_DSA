{
 "cells": [
  {
   "cell_type": "code",
   "execution_count": 11,
   "id": "f527039e",
   "metadata": {},
   "outputs": [],
   "source": [
    "# Python Arrays\n",
    "\n",
    "# Import libraries\n",
    "from array import *\n",
    "\n",
    "# variable = array(typecode,[elements])\n",
    "arr = array('i',[10,20,30,40,50])"
   ]
  },
  {
   "cell_type": "code",
   "execution_count": 12,
   "id": "a228c640",
   "metadata": {},
   "outputs": [],
   "source": [
    "def printArray(arr):\n",
    "    # Print elements\n",
    "    for n in arr:\n",
    "        print(n)"
   ]
  },
  {
   "cell_type": "code",
   "execution_count": 13,
   "id": "85bbf658",
   "metadata": {},
   "outputs": [
    {
     "name": "stdout",
     "output_type": "stream",
     "text": [
      "10\n",
      "20\n",
      "30\n",
      "40\n",
      "50\n"
     ]
    }
   ],
   "source": [
    "printArray(arr)"
   ]
  },
  {
   "cell_type": "code",
   "execution_count": 14,
   "id": "368cada1",
   "metadata": {},
   "outputs": [
    {
     "name": "stdout",
     "output_type": "stream",
     "text": [
      "20\n",
      "40\n"
     ]
    }
   ],
   "source": [
    "# Accessing Array Elements\n",
    "\n",
    "print(arr[1])\n",
    "print(arr[3])"
   ]
  },
  {
   "cell_type": "code",
   "execution_count": 16,
   "id": "f4a7f260",
   "metadata": {},
   "outputs": [
    {
     "name": "stdout",
     "output_type": "stream",
     "text": [
      "10\n",
      "20\n",
      "25\n",
      "25\n",
      "30\n",
      "40\n",
      "50\n"
     ]
    }
   ],
   "source": [
    "# Insertion Operation\n",
    "\n",
    "# arrName.insert(index,newElement)\n",
    "arr.insert(2,25)\n",
    "printArray(arr)"
   ]
  },
  {
   "cell_type": "code",
   "execution_count": 17,
   "id": "2888df55",
   "metadata": {},
   "outputs": [
    {
     "name": "stdout",
     "output_type": "stream",
     "text": [
      "10\n",
      "20\n",
      "25\n",
      "30\n",
      "40\n",
      "50\n"
     ]
    }
   ],
   "source": [
    "# Deletion operation\n",
    "\n",
    "# arrName.remove(element)\n",
    "arr.remove(25)\n",
    "printArray(arr)"
   ]
  },
  {
   "cell_type": "code",
   "execution_count": 21,
   "id": "345b30b1",
   "metadata": {},
   "outputs": [
    {
     "name": "stdout",
     "output_type": "stream",
     "text": [
      "30 found at index 3\n"
     ]
    }
   ],
   "source": [
    "# Search Operation\n",
    "\n",
    "# arrName.index(element)\n",
    "print('30 found at index',arr.index(30))\n",
    "# print('60 found at index',arr.index(60))"
   ]
  },
  {
   "cell_type": "code",
   "execution_count": 22,
   "id": "fe43b66f",
   "metadata": {},
   "outputs": [
    {
     "name": "stdout",
     "output_type": "stream",
     "text": [
      "10\n",
      "20\n",
      "22\n",
      "30\n",
      "40\n",
      "50\n"
     ]
    }
   ],
   "source": [
    "# Update operation\n",
    "\n",
    "# arrName[index] = newValue\n",
    "arr[2] = 22\n",
    "printArray(arr)"
   ]
  },
  {
   "cell_type": "code",
   "execution_count": 33,
   "id": "4ca13766",
   "metadata": {},
   "outputs": [
    {
     "name": "stdout",
     "output_type": "stream",
     "text": [
      "100\n",
      "101\n",
      "1.5\n",
      "1.9\n"
     ]
    }
   ],
   "source": [
    "# Array of typecode i,d\n",
    "\n",
    "arr1 = array('i',[100,101])\n",
    "arr2 = array('d',[1.50,1.90])\n",
    "printArray(arr1)\n",
    "printArray(arr2)"
   ]
  },
  {
   "cell_type": "code",
   "execution_count": 34,
   "id": "3935fabe",
   "metadata": {},
   "outputs": [],
   "source": [
    "# A system that stores Ids and marks\n",
    "# viewAll() ---> print a result sheet\n",
    "# search(id) ---> return marks\n",
    "# updateMarks(id,marks) ---> return old marks\n",
    "# removeStudent(id) ---> print the updates result sheet\n",
    "# addStudent(id,marks) ---> print the new result sheet"
   ]
  },
  {
   "cell_type": "code",
   "execution_count": 36,
   "id": "ed4ba417",
   "metadata": {},
   "outputs": [
    {
     "name": "stdout",
     "output_type": "stream",
     "text": [
      "['CSE115', 'CSE215', 'CSE225', 2020, 2021, 2022]\n",
      "[1, 2, 3, 4, 5]\n",
      "['a', 'b', 'C', 'D']\n",
      "[1.2, 1.3, 1.4, 1.5]\n"
     ]
    }
   ],
   "source": [
    "# List\n",
    "\n",
    "list1 = ['CSE115','CSE215','CSE225',2020,2021,2022]\n",
    "list2 = [1,2,3,4,5]\n",
    "list3 = [\"a\",\"b\",\"C\",\"D\"]\n",
    "list4 = [1.2,1.3,1.4,1.5]\n",
    "\n",
    "print(list1)\n",
    "print(list2)\n",
    "print(list3)\n",
    "print(list4)"
   ]
  },
  {
   "cell_type": "code",
   "execution_count": 38,
   "id": "cc2be4a0",
   "metadata": {},
   "outputs": [
    {
     "name": "stdout",
     "output_type": "stream",
     "text": [
      "CSE225\n"
     ]
    }
   ],
   "source": [
    "print(list1[2])"
   ]
  },
  {
   "cell_type": "code",
   "execution_count": 40,
   "id": "f9759e72",
   "metadata": {},
   "outputs": [
    {
     "name": "stdout",
     "output_type": "stream",
     "text": [
      "['CSE115', 'CSE215', 'CSE225']\n"
     ]
    }
   ],
   "source": [
    "print(list1[0:3]) # list[start:end+1]"
   ]
  },
  {
   "cell_type": "code",
   "execution_count": 42,
   "id": "df6e28b7",
   "metadata": {},
   "outputs": [
    {
     "name": "stdout",
     "output_type": "stream",
     "text": [
      "Updated list: ['CSE311', 'CSE215', 'CSE225', 2020, 2021, 2022]\n"
     ]
    }
   ],
   "source": [
    "# updates list\n",
    "list1[0] = 'CSE311'\n",
    "print('Updated list:',list1)"
   ]
  },
  {
   "cell_type": "code",
   "execution_count": 43,
   "id": "9f3f1f4c",
   "metadata": {},
   "outputs": [
    {
     "name": "stdout",
     "output_type": "stream",
     "text": [
      "['CSE311', 'CSE215', 'CSE225', 2020, 2021, 2022, 'CSE299']\n"
     ]
    }
   ],
   "source": [
    "# add new element\n",
    "list1.append('CSE299')\n",
    "print(list1)"
   ]
  },
  {
   "cell_type": "code",
   "execution_count": 45,
   "id": "b18b0bfc",
   "metadata": {},
   "outputs": [
    {
     "name": "stdout",
     "output_type": "stream",
     "text": [
      "Length of list2: 5\n"
     ]
    }
   ],
   "source": [
    "# length\n",
    "length = len(list2)\n",
    "print('Length of list2:',length)"
   ]
  },
  {
   "cell_type": "code",
   "execution_count": 47,
   "id": "fe2c5870",
   "metadata": {},
   "outputs": [
    {
     "name": "stdout",
     "output_type": "stream",
     "text": [
      "['CSE225', 2020, 2021, 2022, 'CSE299']\n"
     ]
    }
   ],
   "source": [
    "del list1[0]\n",
    "print(list1)"
   ]
  },
  {
   "cell_type": "code",
   "execution_count": 49,
   "id": "91bf0f1f",
   "metadata": {},
   "outputs": [
    {
     "data": {
      "text/plain": [
       "list"
      ]
     },
     "execution_count": 49,
     "metadata": {},
     "output_type": "execute_result"
    }
   ],
   "source": [
    "type(list1)"
   ]
  },
  {
   "cell_type": "code",
   "execution_count": 71,
   "id": "d3cb0ede",
   "metadata": {},
   "outputs": [
    {
     "name": "stdout",
     "output_type": "stream",
     "text": [
      "CSE299\n",
      "['CSE215', 'CSE225']\n",
      "['CSE115', 'CSE215', 'CSE225']\n",
      "['CSE215', 'CSE225', 'CSE311', 'CSE299']\n"
     ]
    }
   ],
   "source": [
    "# Negative indexing\n",
    "courses = ['CSE115','CSE215','CSE225','CSE311','CSE299']\n",
    "print(courses[-1])\n",
    "print(courses[1:3])\n",
    "print(courses[:3])\n",
    "print(courses[1:])"
   ]
  },
  {
   "cell_type": "code",
   "execution_count": 72,
   "id": "51cecd8b",
   "metadata": {},
   "outputs": [
    {
     "name": "stdout",
     "output_type": "stream",
     "text": [
      "Yes this studes have taken CSE299\n"
     ]
    }
   ],
   "source": [
    "# check if item exists\n",
    "if 'CSE299' in courses:\n",
    "    print(\"Yes this studes have taken CSE299\")"
   ]
  },
  {
   "cell_type": "code",
   "execution_count": 73,
   "id": "d9707147",
   "metadata": {},
   "outputs": [
    {
     "name": "stdout",
     "output_type": "stream",
     "text": [
      "['CSE115', 'CSE215', 'CSE225', 'CSE327', 'CSE311']\n"
     ]
    }
   ],
   "source": [
    "courses[3:5] = ['CSE327','CSE311']\n",
    "print(courses)"
   ]
  },
  {
   "cell_type": "code",
   "execution_count": 74,
   "id": "7cd85333",
   "metadata": {},
   "outputs": [
    {
     "name": "stdout",
     "output_type": "stream",
     "text": [
      "['CSE115', 'CSE173', 'CSE215', 'CSE225', 'CSE327', 'CSE311']\n"
     ]
    }
   ],
   "source": [
    "# Insert Items\n",
    "\n",
    "courses.insert(1,'CSE173')\n",
    "print(courses)"
   ]
  },
  {
   "cell_type": "code",
   "execution_count": 75,
   "id": "2f699abe",
   "metadata": {},
   "outputs": [
    {
     "name": "stdout",
     "output_type": "stream",
     "text": [
      "['CSE115', 'CSE173', 'CSE215', 'CSE225', 'CSE327', 'CSE311', 'CSE445', 'CSE465']\n"
     ]
    }
   ],
   "source": [
    "# Extends list \n",
    "major_courses = ['CSE445','CSE465']\n",
    "\n",
    "courses.extend(major_courses)\n",
    "print(courses)"
   ]
  },
  {
   "cell_type": "code",
   "execution_count": 76,
   "id": "e1ef2a10",
   "metadata": {},
   "outputs": [
    {
     "name": "stdout",
     "output_type": "stream",
     "text": [
      "['CSE115', 'CSE173', 'CSE215', 'CSE225', 'CSE327', 'CSE445', 'CSE465']\n"
     ]
    }
   ],
   "source": [
    "# Remove Item\n",
    "courses.remove('CSE311')\n",
    "print(courses)"
   ]
  },
  {
   "cell_type": "code",
   "execution_count": 77,
   "id": "a4f136f2",
   "metadata": {},
   "outputs": [
    {
     "data": {
      "text/plain": [
       "['CSE115', 'CSE215', 'CSE225', 'CSE327', 'CSE445', 'CSE465']"
      ]
     },
     "execution_count": 77,
     "metadata": {},
     "output_type": "execute_result"
    }
   ],
   "source": [
    "# Remove Specific Index\n",
    "courses.pop(1)\n",
    "courses"
   ]
  },
  {
   "cell_type": "code",
   "execution_count": 78,
   "id": "744b6b86",
   "metadata": {},
   "outputs": [
    {
     "name": "stdout",
     "output_type": "stream",
     "text": [
      "['CSE445', 'CSE465']\n",
      "length before clear: 2\n",
      "length after clear: 0\n"
     ]
    }
   ],
   "source": [
    "# Clear ---> remove all elements\n",
    "print(major_courses)\n",
    "print('length before clear:',len(major_courses))\n",
    "major_courses.clear()\n",
    "print('length after clear:',len(major_courses))"
   ]
  },
  {
   "cell_type": "code",
   "execution_count": 93,
   "id": "11631ddb",
   "metadata": {},
   "outputs": [
    {
     "name": "stdout",
     "output_type": "stream",
     "text": [
      "CSE115,CSE215,CSE225,CSE327,CSE445,CSE465,"
     ]
    }
   ],
   "source": [
    "# Loop through a list\n",
    "\n",
    "for course in courses:\n",
    "    print(course,'',sep=',',end='')"
   ]
  },
  {
   "cell_type": "code",
   "execution_count": 98,
   "id": "c9c39c3f",
   "metadata": {},
   "outputs": [
    {
     "name": "stdout",
     "output_type": "stream",
     "text": [
      "1 2 3 4 5 "
     ]
    }
   ],
   "source": [
    "for i in range(1,6):\n",
    "    print(i,'',sep=' ',end='')"
   ]
  },
  {
   "cell_type": "code",
   "execution_count": 104,
   "id": "4bdbbff9",
   "metadata": {},
   "outputs": [
    {
     "name": "stdout",
     "output_type": "stream",
     "text": [
      "1\n"
     ]
    }
   ],
   "source": [
    "print(1,'',sep='')"
   ]
  },
  {
   "cell_type": "code",
   "execution_count": 105,
   "id": "8ff2681d",
   "metadata": {},
   "outputs": [
    {
     "name": "stdout",
     "output_type": "stream",
     "text": [
      "CSE115\n",
      "CSE215\n",
      "CSE225\n",
      "CSE327\n",
      "CSE445\n",
      "CSE465\n"
     ]
    }
   ],
   "source": [
    "# While loop\n",
    "i = 0\n",
    "while i<len(courses):\n",
    "    print(courses[i])\n",
    "    i = i + 1"
   ]
  },
  {
   "cell_type": "code",
   "execution_count": 110,
   "id": "60e9752e",
   "metadata": {},
   "outputs": [
    {
     "name": "stdout",
     "output_type": "stream",
     "text": [
      "['CSE115', 'CSE215', 'CSE225', 'CSE327', 'CSE445', 'CSE465']\n"
     ]
    }
   ],
   "source": [
    "newlist = [x for x in courses]\n",
    "print(newlist)"
   ]
  },
  {
   "cell_type": "code",
   "execution_count": 112,
   "id": "b7f24acf",
   "metadata": {},
   "outputs": [
    {
     "name": "stdout",
     "output_type": "stream",
     "text": [
      "['apple', 'banana']\n"
     ]
    }
   ],
   "source": [
    "fruits = ['apple','banana','cherry','kiwi']\n",
    "fruits_with_a = []\n",
    "\n",
    "for f in fruits:\n",
    "    if 'a' in f:\n",
    "        fruits_with_a.append(f)\n",
    "    \n",
    "print(fruits_with_a)"
   ]
  },
  {
   "cell_type": "code",
   "execution_count": 114,
   "id": "927c1a12",
   "metadata": {},
   "outputs": [
    {
     "name": "stdout",
     "output_type": "stream",
     "text": [
      "['apple', 'banana']\n"
     ]
    }
   ],
   "source": [
    "newlist = [f for f in fruits if 'a' in f]\n",
    "print(newlist)"
   ]
  },
  {
   "cell_type": "code",
   "execution_count": 116,
   "id": "618017b5",
   "metadata": {},
   "outputs": [
    {
     "name": "stdout",
     "output_type": "stream",
     "text": [
      "['banana', 'cherry', 'kiwi']\n"
     ]
    }
   ],
   "source": [
    "newlist = [f for f in fruits if f != 'apple']\n",
    "print(newlist)"
   ]
  },
  {
   "cell_type": "code",
   "execution_count": 119,
   "id": "d3fd0ba4",
   "metadata": {},
   "outputs": [
    {
     "data": {
      "text/plain": [
       "[1, 2, 3, 4, 5]"
      ]
     },
     "execution_count": 119,
     "metadata": {},
     "output_type": "execute_result"
    }
   ],
   "source": [
    "numbers = [n for n in range(1,6)]\n",
    "numbers"
   ]
  },
  {
   "cell_type": "code",
   "execution_count": 121,
   "id": "b6e3598f",
   "metadata": {},
   "outputs": [],
   "source": [
    "# A system that stores Ids and marks\n",
    "# viewAll() ---> print a result sheet\n",
    "# search(id) ---> return marks\n",
    "# updateMarks(id,marks) ---> return old marks\n",
    "# removeStudent(id) ---> print the updates result sheet\n",
    "# addStudent(id,marks) ---> print the new result sheet"
   ]
  },
  {
   "cell_type": "code",
   "execution_count": 120,
   "id": "43f7d1ef",
   "metadata": {},
   "outputs": [],
   "source": [
    "# For next class: (I have to install pycharm)\n",
    "# 1. Idea of Console based/menu based project\n",
    "# 2. Loops and conditional statements within lists\n",
    "# 3. problem solving using python list\n",
    "# 4. custom functions for optimization"
   ]
  }
 ],
 "metadata": {
  "kernelspec": {
   "display_name": "Python 3 (ipykernel)",
   "language": "python",
   "name": "python3"
  },
  "language_info": {
   "codemirror_mode": {
    "name": "ipython",
    "version": 3
   },
   "file_extension": ".py",
   "mimetype": "text/x-python",
   "name": "python",
   "nbconvert_exporter": "python",
   "pygments_lexer": "ipython3",
   "version": "3.9.13"
  }
 },
 "nbformat": 4,
 "nbformat_minor": 5
}
