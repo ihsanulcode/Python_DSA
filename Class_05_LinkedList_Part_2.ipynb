{
  "nbformat": 4,
  "nbformat_minor": 0,
  "metadata": {
    "colab": {
      "provenance": []
    },
    "kernelspec": {
      "name": "python3",
      "display_name": "Python 3"
    },
    "language_info": {
      "name": "python"
    }
  },
  "cells": [
    {
      "cell_type": "code",
      "execution_count": 4,
      "metadata": {
        "id": "VuSEYX3XExGh"
      },
      "outputs": [],
      "source": [
        "# Create a Node Class\n",
        "class Node:\n",
        "  def __init__(self,data):\n",
        "    self.data = data\n",
        "    self.next = None\n",
        "\n",
        "# Class for LinkedList functions\n",
        "class LinkedList:\n",
        "  def __init__(self):\n",
        "    self.head = None\n",
        "\n",
        "  def insertAtEnd(self,data):\n",
        "    # Create a new node\n",
        "    newNode = Node(data)\n",
        "    # Checking it its a first node or not\n",
        "    if self.head is None:\n",
        "      self.head = newNode\n",
        "      return\n",
        "    # Checking for existing nodes\n",
        "    temp = self.head\n",
        "    while(temp.next):\n",
        "      temp = temp.next\n",
        "    temp.next = newNode\n",
        "\n",
        "  def insertAtBeginning(self,data):\n",
        "    # Create a new node\n",
        "    newNode = Node(data)\n",
        "    # Update\n",
        "    newNode.next = self.head\n",
        "    self.head = newNode\n",
        "\n",
        "  def append_after(self,target_data,new_data):\n",
        "    # Create a new node\n",
        "    newNode = Node(new_data)\n",
        "    temp = self.head\n",
        "    while temp:\n",
        "      if temp.data == target_data:\n",
        "        newNode.next = temp.next\n",
        "        temp.next = newNode\n",
        "        return\n",
        "      temp = temp.next\n",
        "    print(target_data,'Not found!')\n",
        "\n",
        "\n",
        "  def delete(self,data):\n",
        "    if self.head is None:\n",
        "      print(\"Head is none\")\n",
        "      return\n",
        "\n",
        "    if self.head.data == data:\n",
        "      self.head = self.head.next\n",
        "      return\n",
        "\n",
        "    temp = self.head\n",
        "    while temp.next:\n",
        "      if temp.next.data == data:\n",
        "        temp.next = temp.next.next\n",
        "        return\n",
        "      temp = temp.next\n",
        "    print(data,'Not found!')\n",
        "\n",
        "  def search(self,data):\n",
        "    temp = self.head\n",
        "    while temp.next:\n",
        "      if temp.next.data == data:\n",
        "        print(data,\"Found!\")\n",
        "        return\n",
        "      temp = temp.next\n",
        "    print(data,'Not found!')\n",
        "\n",
        "  def printList(self):\n",
        "    temp = self.head\n",
        "    print(\"Head->\",end='')\n",
        "    while temp is not None:\n",
        "      print(temp.data,'->',end='')\n",
        "      temp = temp.next\n",
        "    print('None',end='')\n",
        "    print()"
      ]
    },
    {
      "cell_type": "code",
      "source": [
        "list = LinkedList()\n",
        "\n",
        "list.insertAtEnd(1)\n",
        "list.insertAtEnd(2)\n",
        "list.insertAtEnd(4)\n",
        "list.printList()\n",
        "list.append_after(2,3)\n",
        "list.printList()\n",
        "list.append_after(5,6)\n",
        "list.printList()\n",
        "list.insertAtBeginning(0)\n",
        "list.printList()\n",
        "list.search(100)\n",
        "list.search(3)\n",
        "list.delete(3)\n",
        "list.printList()\n",
        "list.delete(100)\n",
        "list.printList()\n",
        "list.delete(0)\n",
        "list.printList()"
      ],
      "metadata": {
        "colab": {
          "base_uri": "https://localhost:8080/"
        },
        "id": "hAow4EFiNl55",
        "outputId": "0eba3f12-32ee-4503-d473-00c586f49c23"
      },
      "execution_count": 14,
      "outputs": [
        {
          "output_type": "stream",
          "name": "stdout",
          "text": [
            "Head->1 ->2 ->4 ->None\n",
            "Head->1 ->2 ->3 ->4 ->None\n",
            "5 Not found!\n",
            "Head->1 ->2 ->3 ->4 ->None\n",
            "Head->0 ->1 ->2 ->3 ->4 ->None\n",
            "100 Not found!\n",
            "3 Found!\n",
            "Head->0 ->1 ->2 ->4 ->None\n",
            "100 Not found!\n",
            "Head->0 ->1 ->2 ->4 ->None\n",
            "Head->1 ->2 ->4 ->None\n"
          ]
        }
      ]
    }
  ]
}