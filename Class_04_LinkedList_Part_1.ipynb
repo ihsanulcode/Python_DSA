{
  "nbformat": 4,
  "nbformat_minor": 0,
  "metadata": {
    "colab": {
      "provenance": [],
      "toc_visible": true
    },
    "kernelspec": {
      "name": "python3",
      "display_name": "Python 3"
    },
    "language_info": {
      "name": "python"
    }
  },
  "cells": [
    {
      "cell_type": "markdown",
      "source": [
        "# LinkedList"
      ],
      "metadata": {
        "id": "PH3huaIhDlf2"
      }
    },
    {
      "cell_type": "markdown",
      "source": [
        "## Insert At End"
      ],
      "metadata": {
        "id": "QA3KeXQTDo3O"
      }
    },
    {
      "cell_type": "code",
      "execution_count": 9,
      "metadata": {
        "id": "4oC_5el68dis"
      },
      "outputs": [],
      "source": [
        "# Create a Node class\n",
        "class Node:\n",
        "  def __init__(self,data):\n",
        "    self.data = data\n",
        "    self.next = None\n",
        "\n",
        "class LinkedList:\n",
        "  def __init__(self):\n",
        "    self.head = None\n",
        "\n",
        "  def insertAtEnd(self,data):\n",
        "    # Create a Node object\n",
        "    newNode = Node(data)\n",
        "    # Checking if its a first node or not\n",
        "    if self.head is None:\n",
        "      self.head = newNode\n",
        "      return\n",
        "    # Checking for existing nodes\n",
        "    temp = self.head\n",
        "    while(temp.next):\n",
        "      temp = temp.next\n",
        "    temp.next = newNode\n",
        "\n",
        "  def insertAtBeginning(self,data):\n",
        "    newNode = Node(data)\n",
        "    # Update\n",
        "    newNode.next = self.head\n",
        "    self.head = newNode\n",
        "\n",
        "  def printList(self):\n",
        "    temp = self.head\n",
        "    print(\"Head-> \",end='')\n",
        "    while temp is not None:\n",
        "      print(temp.data,\"-> \",end='')\n",
        "      temp = temp.next\n",
        "    print(\"None\",end='')"
      ]
    },
    {
      "cell_type": "code",
      "source": [
        "list = LinkedList()\n",
        "\n",
        "list.insertAtEnd(1)\n",
        "list.insertAtEnd(2)\n",
        "list.insertAtEnd(3)\n",
        "list.insertAtBeginning(4)\n",
        "list.printList()"
      ],
      "metadata": {
        "colab": {
          "base_uri": "https://localhost:8080/"
        },
        "id": "5BudrNIEIjDa",
        "outputId": "f5df7d6d-e7e2-49af-9285-1806e6a506f2"
      },
      "execution_count": 10,
      "outputs": [
        {
          "output_type": "stream",
          "name": "stdout",
          "text": [
            "Head-> 4 -> 1 -> 2 -> 3 -> None"
          ]
        }
      ]
    }
  ]
}