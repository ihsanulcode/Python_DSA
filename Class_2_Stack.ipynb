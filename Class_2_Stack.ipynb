{
  "nbformat": 4,
  "nbformat_minor": 0,
  "metadata": {
    "colab": {
      "provenance": [],
      "toc_visible": true
    },
    "kernelspec": {
      "name": "python3",
      "display_name": "Python 3"
    },
    "language_info": {
      "name": "python"
    }
  },
  "cells": [
    {
      "cell_type": "markdown",
      "source": [
        "# Tuple"
      ],
      "metadata": {
        "id": "8r95yp_bfxnG"
      }
    },
    {
      "cell_type": "code",
      "execution_count": null,
      "metadata": {
        "id": "MXDX99svfo5m",
        "colab": {
          "base_uri": "https://localhost:8080/"
        },
        "outputId": "a1ee4417-9376-4f92-faf7-46bb3a56244d"
      },
      "outputs": [
        {
          "output_type": "stream",
          "name": "stdout",
          "text": [
            "('Python', 'Data', 'Structure')\n"
          ]
        }
      ],
      "source": [
        "tuple = (\"Python\", \"Data\", \"Structure\")\n",
        "\n",
        "print(tuple)"
      ]
    },
    {
      "cell_type": "code",
      "source": [
        "type(tuple)"
      ],
      "metadata": {
        "colab": {
          "base_uri": "https://localhost:8080/"
        },
        "id": "QpAR61rxhrAd",
        "outputId": "18b396c4-54a9-4cf0-8cf1-fc4457ff0c5f"
      },
      "execution_count": null,
      "outputs": [
        {
          "output_type": "execute_result",
          "data": {
            "text/plain": [
              "tuple"
            ]
          },
          "metadata": {},
          "execution_count": 2
        }
      ]
    },
    {
      "cell_type": "code",
      "source": [
        "l = [1,2,3,4]\n",
        "type(l)"
      ],
      "metadata": {
        "colab": {
          "base_uri": "https://localhost:8080/"
        },
        "id": "t-b-Br0Zhx3x",
        "outputId": "56e93201-f7fd-4aca-cce8-d46057ce36e8"
      },
      "execution_count": null,
      "outputs": [
        {
          "output_type": "execute_result",
          "data": {
            "text/plain": [
              "list"
            ]
          },
          "metadata": {},
          "execution_count": 3
        }
      ]
    },
    {
      "cell_type": "markdown",
      "source": [
        "# Set"
      ],
      "metadata": {
        "id": "ptXyObrQiBRL"
      }
    },
    {
      "cell_type": "code",
      "source": [
        "set = {1,2,2,3,4,5}\n",
        "print(set)"
      ],
      "metadata": {
        "colab": {
          "base_uri": "https://localhost:8080/"
        },
        "id": "4nftpXrWiCOJ",
        "outputId": "1cc23210-2223-45fa-b794-be45943662a6"
      },
      "execution_count": null,
      "outputs": [
        {
          "output_type": "stream",
          "name": "stdout",
          "text": [
            "{1, 2, 3, 4, 5}\n"
          ]
        }
      ]
    },
    {
      "cell_type": "code",
      "source": [
        "ul = {5,2,3,2,1,4}\n",
        "ul"
      ],
      "metadata": {
        "colab": {
          "base_uri": "https://localhost:8080/"
        },
        "id": "j_Kx3aKriTkd",
        "outputId": "1a8cb412-7bb9-4143-f22f-2fb601e993a8"
      },
      "execution_count": null,
      "outputs": [
        {
          "output_type": "execute_result",
          "data": {
            "text/plain": [
              "{1, 2, 3, 4, 5}"
            ]
          },
          "metadata": {},
          "execution_count": 6
        }
      ]
    },
    {
      "cell_type": "markdown",
      "source": [
        "# Dictionary"
      ],
      "metadata": {
        "id": "McMYWOkzifD-"
      }
    },
    {
      "cell_type": "code",
      "source": [
        "dict = {\n",
        "    \"A\" : \"Python\",\n",
        "    \"B\" : \"Java\",\n",
        "    \"C\" : \"C++\"\n",
        "}\n",
        "\n",
        "print(dict)"
      ],
      "metadata": {
        "colab": {
          "base_uri": "https://localhost:8080/"
        },
        "id": "itkZdXK1ig_T",
        "outputId": "5a7cf7ac-43c6-484b-a58e-e03b9d407920"
      },
      "execution_count": null,
      "outputs": [
        {
          "output_type": "stream",
          "name": "stdout",
          "text": [
            "{'A': 'Python', 'B': 'Java', 'C': 'C++'}\n"
          ]
        }
      ]
    },
    {
      "cell_type": "code",
      "source": [
        "print(dict[\"A\"])"
      ],
      "metadata": {
        "colab": {
          "base_uri": "https://localhost:8080/"
        },
        "id": "Ou235omti6rN",
        "outputId": "105d7ba0-52b4-4859-a35d-39cf58af74e5"
      },
      "execution_count": null,
      "outputs": [
        {
          "output_type": "stream",
          "name": "stdout",
          "text": [
            "Python\n"
          ]
        }
      ]
    },
    {
      "cell_type": "code",
      "source": [
        "marks = {\n",
        "    \"Name\" : [\"Jon\",\"Snow\",\"Doe\"],\n",
        "    \"Score\" : [9,7,8],\n",
        "}\n",
        "\n",
        "print(marks)"
      ],
      "metadata": {
        "colab": {
          "base_uri": "https://localhost:8080/"
        },
        "id": "-nI3uRtpjBMu",
        "outputId": "fdf53ef2-29c9-46f5-d767-6fe056bf683b"
      },
      "execution_count": null,
      "outputs": [
        {
          "output_type": "stream",
          "name": "stdout",
          "text": [
            "{'Name': ['Jon', 'Snow', 'Doe'], 'Score': [9, 7, 8]}\n"
          ]
        }
      ]
    },
    {
      "cell_type": "code",
      "source": [
        "print(marks[\"Name\"])"
      ],
      "metadata": {
        "colab": {
          "base_uri": "https://localhost:8080/"
        },
        "id": "Uw9ZgCvwjUS1",
        "outputId": "fd743628-a377-4287-d6ad-83732d52329b"
      },
      "execution_count": null,
      "outputs": [
        {
          "output_type": "stream",
          "name": "stdout",
          "text": [
            "['Jon', 'Snow', 'Doe']\n"
          ]
        }
      ]
    },
    {
      "cell_type": "code",
      "source": [
        "print(marks[\"Score\"])"
      ],
      "metadata": {
        "colab": {
          "base_uri": "https://localhost:8080/"
        },
        "id": "TGSRj9d1jYaK",
        "outputId": "86b8db40-38c4-418e-cdbf-de652001f423"
      },
      "execution_count": null,
      "outputs": [
        {
          "output_type": "stream",
          "name": "stdout",
          "text": [
            "[9, 7, 8]\n"
          ]
        }
      ]
    },
    {
      "cell_type": "code",
      "source": [
        "for i in marks['Name']:\n",
        "  print(i)"
      ],
      "metadata": {
        "colab": {
          "base_uri": "https://localhost:8080/"
        },
        "id": "ww7-SZI8jdLY",
        "outputId": "d4a565db-4176-431f-feae-55f7329438d6"
      },
      "execution_count": null,
      "outputs": [
        {
          "output_type": "stream",
          "name": "stdout",
          "text": [
            "Jon\n",
            "Snow\n",
            "Doe\n"
          ]
        }
      ]
    },
    {
      "cell_type": "code",
      "source": [
        "marks.get(\"Score\")"
      ],
      "metadata": {
        "colab": {
          "base_uri": "https://localhost:8080/"
        },
        "id": "EaNS0spUjjpK",
        "outputId": "99ea66f0-c106-4e60-b484-7622ca61f54d"
      },
      "execution_count": null,
      "outputs": [
        {
          "output_type": "execute_result",
          "data": {
            "text/plain": [
              "[9, 7, 8]"
            ]
          },
          "metadata": {},
          "execution_count": 13
        }
      ]
    },
    {
      "cell_type": "markdown",
      "source": [
        "# Class"
      ],
      "metadata": {
        "id": "78A5jtWHk1Y1"
      }
    },
    {
      "cell_type": "code",
      "source": [
        "class Student:\n",
        "  count = 0\n",
        "\n",
        "  def __init__(self,name,id,score):\n",
        "    self.name = name\n",
        "    self.id = id\n",
        "    self.score = score\n",
        "    Student.count += 1\n",
        "\n",
        "  def __str__(self):\n",
        "    return f\"Name: {self.name}, ID:{self.id}\"\n",
        "\n",
        "  def introduce(self):\n",
        "    print(\"Hello,\",self.name,\"!\")"
      ],
      "metadata": {
        "id": "kLVHm_n8jugH"
      },
      "execution_count": null,
      "outputs": []
    },
    {
      "cell_type": "markdown",
      "source": [
        "# Object"
      ],
      "metadata": {
        "id": "dHHcd9B_m9tW"
      }
    },
    {
      "cell_type": "code",
      "source": [
        "student1 = Student(\"Jon Snow\",20111)\n",
        "student1.introduce()"
      ],
      "metadata": {
        "colab": {
          "base_uri": "https://localhost:8080/"
        },
        "id": "rCK5LE4zm6yI",
        "outputId": "5a4f9725-e8fb-44dc-981e-37d4ded7014d"
      },
      "execution_count": null,
      "outputs": [
        {
          "output_type": "stream",
          "name": "stdout",
          "text": [
            "Hello, Jon Snow !\n"
          ]
        }
      ]
    },
    {
      "cell_type": "code",
      "source": [
        "student2 = Student(\"Jon Doe\",202222)\n",
        "student2.introduce()"
      ],
      "metadata": {
        "colab": {
          "base_uri": "https://localhost:8080/"
        },
        "id": "orBqd_Hroc4W",
        "outputId": "ed653452-0a21-4226-fb44-e7e3074a6fcc"
      },
      "execution_count": null,
      "outputs": [
        {
          "output_type": "stream",
          "name": "stdout",
          "text": [
            "Hello, Jon Doe !\n"
          ]
        }
      ]
    },
    {
      "cell_type": "code",
      "source": [
        "print(Student.count)"
      ],
      "metadata": {
        "colab": {
          "base_uri": "https://localhost:8080/"
        },
        "id": "7VZ5er6cpK2c",
        "outputId": "502c0e87-b778-4796-afd6-927d5e5f192e"
      },
      "execution_count": null,
      "outputs": [
        {
          "output_type": "stream",
          "name": "stdout",
          "text": [
            "2\n"
          ]
        }
      ]
    },
    {
      "cell_type": "code",
      "source": [
        "print(student2.name)\n",
        "print(student2.id)"
      ],
      "metadata": {
        "colab": {
          "base_uri": "https://localhost:8080/"
        },
        "id": "iAmGXlUDqVZD",
        "outputId": "fd4bb037-fda2-4ad2-d43e-a6bc71c3d37a"
      },
      "execution_count": null,
      "outputs": [
        {
          "output_type": "stream",
          "name": "stdout",
          "text": [
            "Jon Doe\n",
            "202222\n"
          ]
        }
      ]
    },
    {
      "cell_type": "code",
      "source": [
        "print(student1)\n",
        "print(student2)"
      ],
      "metadata": {
        "colab": {
          "base_uri": "https://localhost:8080/"
        },
        "id": "b3dJj23HqfVH",
        "outputId": "e416e022-5602-4a2d-b079-0fed3379325f"
      },
      "execution_count": null,
      "outputs": [
        {
          "output_type": "stream",
          "name": "stdout",
          "text": [
            "Name: Jon Snow, ID:20111\n",
            "Name: Jon Doe, ID:202222\n"
          ]
        }
      ]
    },
    {
      "cell_type": "code",
      "source": [
        "del student2"
      ],
      "metadata": {
        "id": "36ok6JherjGC"
      },
      "execution_count": null,
      "outputs": []
    },
    {
      "cell_type": "markdown",
      "source": [
        "# Stack Data Structure"
      ],
      "metadata": {
        "id": "IMXAm3vXwvKJ"
      }
    },
    {
      "cell_type": "code",
      "source": [
        "# Create a stack\n",
        "def Create():\n",
        "  stack = []\n",
        "  return stack\n",
        "\n",
        "# Adding new elements\n",
        "def Push(stack,value):\n",
        "  stack.append(value)\n",
        "  print(\"Pushed\",value)\n",
        "\n",
        "# Check isEmpty or not\n",
        "def isEmpty(stack):\n",
        "  if len(stack)==0:\n",
        "    return True\n",
        "  else:\n",
        "    return False\n",
        "\n",
        "# Remove element\n",
        "def Pop(stack):\n",
        "  if(isEmpty(stack)):\n",
        "    print(\"Stack is empty!\")\n",
        "  else:\n",
        "    stack.pop()\n",
        "    print(\"New Stack:\",stack)\n",
        "\n",
        "# See the Top element\n",
        "def Peek(stack):\n",
        "  if(isEmpty(stack)):\n",
        "    print(\"Stack is empty!\")\n",
        "  else:\n",
        "    print(\"Top element:\",stack[-1])\n",
        "\n",
        "# Print the STACK\n",
        "def PrintStack(stack):\n",
        "  print(\"Stack:\",stack)"
      ],
      "metadata": {
        "id": "HM5pvy6SsNvk"
      },
      "execution_count": null,
      "outputs": []
    },
    {
      "cell_type": "code",
      "source": [
        "# USE THE STACK\n",
        "\n",
        "# Create an empty STACK\n",
        "st = Create()\n",
        "\n",
        "# Push elements\n",
        "Push(st,1)\n",
        "Push(st,2)\n",
        "Push(st,3)\n",
        "\n",
        "# Print the STACK\n",
        "PrintStack(st)\n",
        "\n",
        "# Pop element\n",
        "Pop(st)\n",
        "\n",
        "# See the TOP element\n",
        "Peek(st)\n",
        "\n",
        "# Pop element\n",
        "Pop(st)\n",
        "# Pop element\n",
        "Pop(st)\n",
        "\n",
        "# Print the stack\n",
        "PrintStack(st)\n",
        "\n",
        "Pop(st)\n",
        "\n",
        "Peek(st)"
      ],
      "metadata": {
        "colab": {
          "base_uri": "https://localhost:8080/"
        },
        "id": "dLfL4SvfzD4Q",
        "outputId": "4ea07063-2f7a-47cd-def5-916a28b008a0"
      },
      "execution_count": null,
      "outputs": [
        {
          "output_type": "stream",
          "name": "stdout",
          "text": [
            "Pushed 1\n",
            "Pushed 2\n",
            "Pushed 3\n",
            "Stack: [1, 2, 3]\n",
            "New Stack: [1, 2]\n",
            "Top element: 2\n",
            "New Stack: [1]\n",
            "New Stack: []\n",
            "Stack: []\n",
            "Stack is empty!\n",
            "Stack is empty!\n"
          ]
        }
      ]
    },
    {
      "cell_type": "markdown",
      "source": [
        "# Stack Implementation Using Class"
      ],
      "metadata": {
        "id": "bn034qAr0iqZ"
      }
    },
    {
      "cell_type": "code",
      "source": [
        "class Stack:\n",
        "\n",
        "  def __init__(self):\n",
        "    self.stack = []\n",
        "\n",
        "  # Adding new elements\n",
        "  def Push(self,value):\n",
        "    self.stack.append(value)\n",
        "    print(\"Pushed\",value)\n",
        "\n",
        "  # Check isEmpty or not\n",
        "  def isEmpty(self):\n",
        "    if len(self.stack) == 0:\n",
        "      return True\n",
        "    else:\n",
        "      return False\n",
        "\n",
        "  # Remove element\n",
        "  def Pop(self):\n",
        "    if(isEmpty(self.stack)):\n",
        "      print(\"Stack is empty!\")\n",
        "    else:\n",
        "      self.stack.pop()\n",
        "      print(\"New Stack:\",self.stack)\n",
        "\n",
        "  # See the Top element\n",
        "  def Peek(self):\n",
        "    if(isEmpty(self.stack)):\n",
        "      print(\"Stack is empty!\")\n",
        "    else:\n",
        "      print(\"Top element:\",self.stack[-1])\n",
        "\n",
        "  # Print the STACK\n",
        "  def PrintStack(self):\n",
        "    print(\"Stack:\",self.stack)"
      ],
      "metadata": {
        "id": "T0ds5Oqzz8oy"
      },
      "execution_count": null,
      "outputs": []
    },
    {
      "cell_type": "code",
      "source": [
        "stk = Stack()\n",
        "stk.Push(1)\n",
        "stk.Push(2)\n",
        "stk.Push(3)\n",
        "stk.Push(4)\n",
        "stk.Push(5)\n",
        "stk.PrintStack()"
      ],
      "metadata": {
        "colab": {
          "base_uri": "https://localhost:8080/"
        },
        "id": "hpV8hBr_25Iv",
        "outputId": "d95d3be5-caf4-43b4-c161-8a86d35084b5"
      },
      "execution_count": null,
      "outputs": [
        {
          "output_type": "stream",
          "name": "stdout",
          "text": [
            "Pushed 1\n",
            "Pushed 2\n",
            "Pushed 3\n",
            "Pushed 4\n",
            "Pushed 5\n",
            "Stack: [1, 2, 3, 4, 5]\n"
          ]
        }
      ]
    },
    {
      "cell_type": "code",
      "source": [
        "stk.Pop()"
      ],
      "metadata": {
        "colab": {
          "base_uri": "https://localhost:8080/"
        },
        "id": "P8QSgGuf4qgg",
        "outputId": "b1bffbf2-af7f-4059-d90e-13f4b3f66d85"
      },
      "execution_count": null,
      "outputs": [
        {
          "output_type": "stream",
          "name": "stdout",
          "text": [
            "New Stack: [1, 2, 3, 4]\n"
          ]
        }
      ]
    },
    {
      "cell_type": "code",
      "source": [
        "stk.Pop()\n",
        "stk.Peek()\n",
        "stk.Pop()\n",
        "stk.Pop()\n",
        "stk.PrintStack()"
      ],
      "metadata": {
        "colab": {
          "base_uri": "https://localhost:8080/"
        },
        "id": "gQNytIbK5GTr",
        "outputId": "24d33ad0-2a07-45c4-d5e9-db04e7a864a2"
      },
      "execution_count": null,
      "outputs": [
        {
          "output_type": "stream",
          "name": "stdout",
          "text": [
            "New Stack: [1, 2]\n",
            "Top element: 2\n",
            "New Stack: [1]\n",
            "New Stack: []\n",
            "Stack: []\n"
          ]
        }
      ]
    },
    {
      "cell_type": "code",
      "source": [
        "stk.Pop()"
      ],
      "metadata": {
        "id": "rcdaolaV5U99",
        "outputId": "50236f3d-d756-4896-9105-0c9ce7ffe657",
        "colab": {
          "base_uri": "https://localhost:8080/"
        }
      },
      "execution_count": null,
      "outputs": [
        {
          "output_type": "stream",
          "name": "stdout",
          "text": [
            "Stack is empty!\n"
          ]
        }
      ]
    }
  ]
}