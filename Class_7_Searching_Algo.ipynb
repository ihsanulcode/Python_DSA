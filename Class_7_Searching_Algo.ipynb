{
  "nbformat": 4,
  "nbformat_minor": 0,
  "metadata": {
    "colab": {
      "provenance": []
    },
    "kernelspec": {
      "name": "python3",
      "display_name": "Python 3"
    },
    "language_info": {
      "name": "python"
    }
  },
  "cells": [
    {
      "cell_type": "markdown",
      "source": [
        "# Linear Search\n"
      ],
      "metadata": {
        "id": "QFbEEOqQwWoz"
      }
    },
    {
      "cell_type": "code",
      "source": [
        "def linear_search(list,key):\n",
        "  for index,value in enumerate(list):\n",
        "    if value==key:\n",
        "      return index\n",
        "  return -1"
      ],
      "metadata": {
        "id": "jClLMCgNwYn6"
      },
      "execution_count": 1,
      "outputs": []
    },
    {
      "cell_type": "code",
      "source": [
        "list = [4,7,2,9,1,5,6]\n",
        "key = 50\n",
        "index = linear_search(list,key)\n",
        "\n",
        "if  index == -1:\n",
        "  print(key,\"does not exist!\")\n",
        "else:\n",
        "  print(key,\"found at\",index)"
      ],
      "metadata": {
        "colab": {
          "base_uri": "https://localhost:8080/"
        },
        "id": "YwHfmuK1xEPP",
        "outputId": "f61cf31e-da0a-4d74-e5fa-438b6f095194"
      },
      "execution_count": 3,
      "outputs": [
        {
          "output_type": "stream",
          "name": "stdout",
          "text": [
            "50 does not exist!\n"
          ]
        }
      ]
    },
    {
      "cell_type": "markdown",
      "source": [
        "# Binary Search"
      ],
      "metadata": {
        "id": "B1MwEhuOzgqb"
      }
    },
    {
      "cell_type": "code",
      "source": [
        "def binary_search(list,key):\n",
        "  # initialize left and right\n",
        "  left = 0\n",
        "  right = len(list)-1\n",
        "\n",
        "  # Run the loop while left position is smaller or equal to right position\n",
        "  while left <= right:\n",
        "    # Calculate mid position\n",
        "    mid = (left+right)//2\n",
        "    # Extract middle element\n",
        "    mid_value = list[mid]\n",
        "\n",
        "    if mid_value == key: # If we found the key at middle position\n",
        "      return mid\n",
        "    elif mid_value < key: # Else the middle element is less than the key we are searching\n",
        "      left = mid+1\n",
        "    else: # Else the middle element is greater than\n",
        "      right = mid-1\n",
        "\n",
        "  # If we couldn't return anything from the loop then return -1\n",
        "  return -1"
      ],
      "metadata": {
        "id": "jJwsRf8AzivC"
      },
      "execution_count": 4,
      "outputs": []
    },
    {
      "cell_type": "code",
      "source": [
        "# TEST\n",
        "\n",
        "list = [1,2,3,4,5,6,7,8,9]\n",
        "key = 5\n",
        "index = binary_search(list,key)\n",
        "\n",
        "if  index == -1:\n",
        "  print(key,\"does not exist!\")\n",
        "else:\n",
        "  print(key,\"found at\",index)\n",
        "\n",
        "\n",
        "# Best case is O(1)\n",
        "# Worst case is O(logn)"
      ],
      "metadata": {
        "colab": {
          "base_uri": "https://localhost:8080/"
        },
        "id": "gFU4ROca3u4e",
        "outputId": "68a00cfc-4dcf-4a42-a09f-c30b329d0742"
      },
      "execution_count": 10,
      "outputs": [
        {
          "output_type": "stream",
          "name": "stdout",
          "text": [
            "5 found at 4\n"
          ]
        }
      ]
    }
  ]
}