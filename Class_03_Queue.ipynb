{
  "nbformat": 4,
  "nbformat_minor": 0,
  "metadata": {
    "colab": {
      "provenance": [],
      "toc_visible": true
    },
    "kernelspec": {
      "name": "python3",
      "display_name": "Python 3"
    },
    "language_info": {
      "name": "python"
    }
  },
  "cells": [
    {
      "cell_type": "markdown",
      "source": [
        "# Queue Implementation"
      ],
      "metadata": {
        "id": "hwE7QBJS5pf5"
      }
    },
    {
      "cell_type": "code",
      "source": [
        "class Queue:\n",
        "  # Initializing a queue\n",
        "  def __init__(self):\n",
        "    self.queue = []\n",
        "\n",
        "\n",
        "  # Adding an element\n",
        "  def enqueue(self,value):\n",
        "    self.queue.append(value) # Appending new value at the end of the list\n",
        "    print(\"Added new value!\")\n",
        "\n",
        "  # Removing an element\n",
        "  def dequeue(self):\n",
        "    # Check if the list is empty or not\n",
        "    if len(self.queue) == 0:\n",
        "      print(\"Empty Queue!\")\n",
        "    else:\n",
        "      self.queue.pop(0)\n",
        "      print(\"Value removed!\")\n",
        "\n",
        "  # See the rear value\n",
        "  def rear(self):\n",
        "    print(\"Last value:\",self.queue[-1])\n",
        "\n",
        "  # See the front value\n",
        "  def front(self):\n",
        "    print(\"First value:\",self.queue[0])\n",
        "\n",
        "  # Print the queue\n",
        "  def printQueue(self):\n",
        "    print(\"Queue:\",q.queue)\n",
        "\n",
        "  # See the length of the list\n",
        "  def count(self):\n",
        "    return len(self.queue)"
      ],
      "metadata": {
        "id": "nFWYsDaU55lM"
      },
      "execution_count": 15,
      "outputs": []
    },
    {
      "cell_type": "code",
      "source": [
        "# Testing my Queue\n",
        "\n",
        "q = Queue()\n",
        "# type(q)\n",
        "\n",
        "q.enqueue(1)\n",
        "q.enqueue(2)\n",
        "q.enqueue(3)\n",
        "q.front()\n",
        "q.rear()\n",
        "q.printQueue()\n",
        "\n",
        "q.dequeue()\n",
        "print(\"Person in line:\",q.count())\n",
        "\n",
        "q.printQueue()\n",
        "q.dequeue()\n",
        "q.printQueue()\n",
        "q.enqueue(1)\n",
        "q.printQueue()\n",
        "q.dequeue()\n",
        "q.dequeue()\n",
        "q.printQueue()\n",
        "\n",
        "q.dequeue()"
      ],
      "metadata": {
        "colab": {
          "base_uri": "https://localhost:8080/"
        },
        "id": "R2dbrOFU8pP2",
        "outputId": "6cd976f1-1de7-4a16-88fa-914341f4dae5"
      },
      "execution_count": 16,
      "outputs": [
        {
          "output_type": "stream",
          "name": "stdout",
          "text": [
            "Added new value!\n",
            "Added new value!\n",
            "Added new value!\n",
            "First value: 1\n",
            "Last value: 3\n",
            "Queue: [1, 2, 3]\n",
            "Value removed!\n",
            "Person in line: 2\n",
            "Queue: [2, 3]\n",
            "Value removed!\n",
            "Queue: [3]\n",
            "Added new value!\n",
            "Queue: [3, 1]\n",
            "Value removed!\n",
            "Value removed!\n",
            "Queue: []\n",
            "Empty Queue!\n"
          ]
        }
      ]
    },
    {
      "cell_type": "markdown",
      "source": [
        "# Class & Object Problem"
      ],
      "metadata": {
        "id": "Bssm1akDDQdG"
      }
    },
    {
      "cell_type": "code",
      "source": [
        "class Circle:\n",
        "\n",
        "  def __init__(self,r):\n",
        "    self.r = r\n",
        "\n",
        "  def area(self):\n",
        "    return 3.1416*self.r*self.r\n",
        "\n",
        "\n",
        "cir1 = Circle(5.5)\n",
        "print(\"Area of circle 1:\",cir1.area())\n",
        "cir2 = Circle(6.5)\n",
        "print(\"Area of circle 2:\",cir2.area())"
      ],
      "metadata": {
        "colab": {
          "base_uri": "https://localhost:8080/"
        },
        "id": "UiLCfM4lDQJe",
        "outputId": "21b08483-fb8f-47c8-8028-1be8a7fa3bef"
      },
      "execution_count": 17,
      "outputs": [
        {
          "output_type": "stream",
          "name": "stdout",
          "text": [
            "Area of circle 1: 95.0334\n",
            "Area of circle 2: 132.7326\n"
          ]
        }
      ]
    }
  ]
}